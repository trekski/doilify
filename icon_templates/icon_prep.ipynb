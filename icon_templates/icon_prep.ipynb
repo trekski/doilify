{
 "cells": [
  {
   "cell_type": "code",
   "execution_count": null,
   "metadata": {},
   "outputs": [],
   "source": [
    "import xml\n",
    "import re"
   ]
  },
  {
   "cell_type": "code",
   "execution_count": null,
   "metadata": {},
   "outputs": [],
   "source": [
    "srource_doc = xml.dom.minidom.parse(\"icon_sprites_src.svg\")\n",
    "src_svg = srource_doc.getElementsByTagName('svg')[0]\n"
   ]
  },
  {
   "cell_type": "code",
   "execution_count": null,
   "metadata": {},
   "outputs": [],
   "source": [
    "target_doc = xml.dom.minidom.Document()\n",
    "trgt_template_el = target_doc.createElement('template')\n",
    "trgt_svg = target_doc.createElement('svg')\n",
    "target_doc.appendChild(trgt_template_el)\n",
    "trgt_template_el.appendChild(trgt_svg)"
   ]
  },
  {
   "cell_type": "code",
   "execution_count": null,
   "metadata": {},
   "outputs": [],
   "source": [
    "for (name, value) in src_svg.attributes.items():\n",
    "  if name in ['xmlns', 'xmlns:svg']:\n",
    "    trgt_svg.setAttribute(name, value)"
   ]
  },
  {
   "cell_type": "code",
   "execution_count": null,
   "metadata": {},
   "outputs": [],
   "source": [
    "# find the main layer in the source SVG\n",
    "main_group = None\n",
    "for grp in src_svg.getElementsByTagName('g'):\n",
    "  if (grp.getAttribute('id') ==  'layer1'):\n",
    "    main_group = grp"
   ]
  },
  {
   "cell_type": "code",
   "execution_count": null,
   "metadata": {},
   "outputs": [],
   "source": [
    "# regexp to find nubmer in format \"##.####\" but be able to rpund them to two digints after decimal\n",
    "num_pattern = '(\\-?\\d+)((\\.\\d+))?'\n",
    "\n",
    "def round_two_digits(matchobj): \n",
    "  int_part = matchobj.group(1)\n",
    "  frac_part = matchobj.group(3)\n",
    "  if frac_part == None:\n",
    "    return int_part\n",
    "  else:\n",
    "    x = round(float((f\"{int_part}{frac_part}\")),2)\n",
    "    return f\"{x}\"\n"
   ]
  },
  {
   "cell_type": "code",
   "execution_count": null,
   "metadata": {},
   "outputs": [],
   "source": [
    "# loop through all groups in the main layer\n",
    "for grp in main_group.getElementsByTagName('g'):\n",
    "\n",
    "    trgt_symbol_el = target_doc.createElement('symbol')\n",
    "    trgt_symbol_el.setAttribute('id', grp.getAttribute('id'))\n",
    "    trgt_svg.appendChild(trgt_symbol_el)\n",
    "\n",
    "    # loop trough all children of a single group\n",
    "    for child in grp.childNodes:\n",
    "      if child.nodeName != '#text':\n",
    "\n",
    "        style = child.getAttribute('style')\n",
    "        name = child.nodeName\n",
    "\n",
    "        # first empty rectangle is the vievport boudary\n",
    "        if (name == 'rect' and style.startswith('fill:none')):\n",
    "          viewBoxParams = [child.getAttribute(att_id) for att_id in ['x', 'y', 'width', 'height']]\n",
    "          trgt_symbol_el.setAttribute('viewBox', \" \".join(viewBoxParams))\n",
    "        # otherwise copy the node over - it's jsut part of the icon design\n",
    "        else:\n",
    "          element = target_doc.createElement(name)\n",
    "          # get source params\n",
    "          elementParams = {k : v for k, v in child.attributes.items() if k not in ['style', 'd']}\n",
    "          elementStyle = child.getAttribute('style')\n",
    "          elementClass = 'svg-icon-accent' if (re.search(\"fill:#ff0000\", style) != None) else 'svg-icon-main'\n",
    "          # set targer params\n",
    "          element.setAttribute('class',elementClass)\n",
    "          if (name == 'path'):\n",
    "            elementPath = child.getAttribute('d')\n",
    "            newElementPath = re.sub(num_pattern, round_two_digits, elementPath)\n",
    "            element.setAttribute('d',newElementPath)\n",
    "          [element.setAttribute(k, v) for k,v in elementParams.items()]\n",
    "          # append new element\n",
    "          trgt_symbol_el.appendChild(element)"
   ]
  },
  {
   "cell_type": "code",
   "execution_count": null,
   "metadata": {},
   "outputs": [],
   "source": [
    "style_string =\"\"\"\n",
    "  .svg-icon-main {fill: var(--color); stroke: none;}\n",
    "  .svg-icon-accent {fill: var(--color2); stroke: none;}\n",
    "\"\"\"\n",
    "\n",
    "trgt_style = target_doc.createElement('style')\n",
    "trgt_style_txt = target_doc.createTextNode(style_string)\n",
    "trgt_style.appendChild(trgt_style_txt)"
   ]
  },
  {
   "cell_type": "code",
   "execution_count": null,
   "metadata": {},
   "outputs": [],
   "source": [
    "with open('IconSprites.vue', 'w') as f:\n",
    "  xml_file_content = target_doc.toprettyxml(indent='  ')\n",
    "  f.writelines([f\"{l}\\n\" for l in xml_file_content.split('\\n') if not l.startswith('<?xml')])\n",
    "  f.write(trgt_style.toprettyxml(indent='  '))"
   ]
  },
  {
   "cell_type": "code",
   "execution_count": null,
   "metadata": {},
   "outputs": [],
   "source": []
  }
 ],
 "metadata": {
  "kernelspec": {
   "display_name": "Python 3",
   "language": "python",
   "name": "python3"
  },
  "language_info": {
   "codemirror_mode": {
    "name": "ipython",
    "version": 3
   },
   "file_extension": ".py",
   "mimetype": "text/x-python",
   "name": "python",
   "nbconvert_exporter": "python",
   "pygments_lexer": "ipython3",
   "version": "3.10.4"
  },
  "orig_nbformat": 4,
  "vscode": {
   "interpreter": {
    "hash": "aee8b7b246df8f9039afb4144a1f6fd8d2ca17a180786b69acc140d282b71a49"
   }
  }
 },
 "nbformat": 4,
 "nbformat_minor": 2
}
